{
 "cells": [
  {
   "cell_type": "code",
   "execution_count": 1,
   "metadata": {},
   "outputs": [],
   "source": [
    "from sklearn.linear_model import LogisticRegression\n",
    "from sklearn.model_selection import train_test_split\n",
    "from sklearn.preprocessing import LabelEncoder\n",
    "from imblearn.combine import SMOTETomek\n",
    "from sklearn import metrics\n",
    "from sklearn.metrics import confusion_matrix\n",
    "from sklearn.metrics import classification_report\n",
    "from sklearn.metrics import precision_recall_fscore_support, roc_curve, roc_auc_score\n",
    "from sklearn.preprocessing import StandardScaler\n",
    "from matplotlib import pyplot\n",
    "from matplotlib.pyplot import figure\n",
    "from numpy import argmax\n",
    "\n",
    "\n",
    "import pandas as pd\n",
    "import numpy as np\n",
    "import matplotlib.pyplot as plt\n",
    "import xgboost as xgb\n",
    "import seaborn as sns\n",
    "\n",
    "import warnings\n",
    "warnings.filterwarnings('ignore')"
   ]
  },
  {
   "cell_type": "code",
   "execution_count": 2,
   "metadata": {},
   "outputs": [],
   "source": [
    "orders = pd.read_excel('orders.xlsx')"
   ]
  },
  {
   "cell_type": "code",
   "execution_count": 3,
   "metadata": {},
   "outputs": [
    {
     "data": {
      "text/plain": [
       "order_id                              object\n",
       "customer_id                           object\n",
       "merchant_id                           object\n",
       "order_amount                         float64\n",
       "checkout_started_at           datetime64[ns]\n",
       "credit_decision_started_at    datetime64[ns]\n",
       "approved_for_installments               bool\n",
       "customer_credit_score                  int64\n",
       "customer_age                           int64\n",
       "customer_billing_zip                  object\n",
       "customer_shipping_zip                 object\n",
       "paid_installment_1                   float64\n",
       "paid_installment_2                     int64\n",
       "paid_installment_3                   float64\n",
       "paid_installment_4                   float64\n",
       "dtype: object"
      ]
     },
     "execution_count": 3,
     "metadata": {},
     "output_type": "execute_result"
    }
   ],
   "source": [
    "orders.dtypes"
   ]
  },
  {
   "cell_type": "code",
   "execution_count": 4,
   "metadata": {
    "scrolled": true
   },
   "outputs": [
    {
     "data": {
      "text/html": [
       "<div>\n",
       "<style scoped>\n",
       "    .dataframe tbody tr th:only-of-type {\n",
       "        vertical-align: middle;\n",
       "    }\n",
       "\n",
       "    .dataframe tbody tr th {\n",
       "        vertical-align: top;\n",
       "    }\n",
       "\n",
       "    .dataframe thead th {\n",
       "        text-align: right;\n",
       "    }\n",
       "</style>\n",
       "<table border=\"1\" class=\"dataframe\">\n",
       "  <thead>\n",
       "    <tr style=\"text-align: right;\">\n",
       "      <th></th>\n",
       "      <th>count</th>\n",
       "      <th>mean</th>\n",
       "      <th>std</th>\n",
       "      <th>min</th>\n",
       "      <th>25%</th>\n",
       "      <th>50%</th>\n",
       "      <th>75%</th>\n",
       "      <th>max</th>\n",
       "    </tr>\n",
       "  </thead>\n",
       "  <tbody>\n",
       "    <tr>\n",
       "      <th>order_amount</th>\n",
       "      <td>10000.0</td>\n",
       "      <td>146.252272</td>\n",
       "      <td>167.883106</td>\n",
       "      <td>4.95</td>\n",
       "      <td>64.0</td>\n",
       "      <td>90.765</td>\n",
       "      <td>155.00</td>\n",
       "      <td>1936.0</td>\n",
       "    </tr>\n",
       "    <tr>\n",
       "      <th>customer_credit_score</th>\n",
       "      <td>10000.0</td>\n",
       "      <td>613.435900</td>\n",
       "      <td>92.555118</td>\n",
       "      <td>1.00</td>\n",
       "      <td>562.0</td>\n",
       "      <td>611.000</td>\n",
       "      <td>664.00</td>\n",
       "      <td>836.0</td>\n",
       "    </tr>\n",
       "    <tr>\n",
       "      <th>customer_age</th>\n",
       "      <td>10000.0</td>\n",
       "      <td>33.544300</td>\n",
       "      <td>11.933729</td>\n",
       "      <td>18.00</td>\n",
       "      <td>24.0</td>\n",
       "      <td>30.000</td>\n",
       "      <td>40.25</td>\n",
       "      <td>89.0</td>\n",
       "    </tr>\n",
       "    <tr>\n",
       "      <th>paid_installment_1</th>\n",
       "      <td>9998.0</td>\n",
       "      <td>1.000000</td>\n",
       "      <td>0.000000</td>\n",
       "      <td>1.00</td>\n",
       "      <td>1.0</td>\n",
       "      <td>1.000</td>\n",
       "      <td>1.00</td>\n",
       "      <td>1.0</td>\n",
       "    </tr>\n",
       "    <tr>\n",
       "      <th>paid_installment_2</th>\n",
       "      <td>10000.0</td>\n",
       "      <td>0.977900</td>\n",
       "      <td>0.147016</td>\n",
       "      <td>0.00</td>\n",
       "      <td>1.0</td>\n",
       "      <td>1.000</td>\n",
       "      <td>1.00</td>\n",
       "      <td>1.0</td>\n",
       "    </tr>\n",
       "    <tr>\n",
       "      <th>paid_installment_3</th>\n",
       "      <td>9996.0</td>\n",
       "      <td>0.959684</td>\n",
       "      <td>0.196709</td>\n",
       "      <td>0.00</td>\n",
       "      <td>1.0</td>\n",
       "      <td>1.000</td>\n",
       "      <td>1.00</td>\n",
       "      <td>1.0</td>\n",
       "    </tr>\n",
       "    <tr>\n",
       "      <th>paid_installment_4</th>\n",
       "      <td>9423.0</td>\n",
       "      <td>0.940359</td>\n",
       "      <td>0.236834</td>\n",
       "      <td>0.00</td>\n",
       "      <td>1.0</td>\n",
       "      <td>1.000</td>\n",
       "      <td>1.00</td>\n",
       "      <td>1.0</td>\n",
       "    </tr>\n",
       "  </tbody>\n",
       "</table>\n",
       "</div>"
      ],
      "text/plain": [
       "                         count        mean         std    min    25%      50%  \\\n",
       "order_amount           10000.0  146.252272  167.883106   4.95   64.0   90.765   \n",
       "customer_credit_score  10000.0  613.435900   92.555118   1.00  562.0  611.000   \n",
       "customer_age           10000.0   33.544300   11.933729  18.00   24.0   30.000   \n",
       "paid_installment_1      9998.0    1.000000    0.000000   1.00    1.0    1.000   \n",
       "paid_installment_2     10000.0    0.977900    0.147016   0.00    1.0    1.000   \n",
       "paid_installment_3      9996.0    0.959684    0.196709   0.00    1.0    1.000   \n",
       "paid_installment_4      9423.0    0.940359    0.236834   0.00    1.0    1.000   \n",
       "\n",
       "                          75%     max  \n",
       "order_amount           155.00  1936.0  \n",
       "customer_credit_score  664.00   836.0  \n",
       "customer_age            40.25    89.0  \n",
       "paid_installment_1       1.00     1.0  \n",
       "paid_installment_2       1.00     1.0  \n",
       "paid_installment_3       1.00     1.0  \n",
       "paid_installment_4       1.00     1.0  "
      ]
     },
     "execution_count": 4,
     "metadata": {},
     "output_type": "execute_result"
    }
   ],
   "source": [
    "orders.describe().T"
   ]
  },
  {
   "cell_type": "markdown",
   "metadata": {},
   "source": [
    "##       Checking and treating outliers with Z-score treatment"
   ]
  },
  {
   "cell_type": "code",
   "execution_count": 5,
   "metadata": {},
   "outputs": [
    {
     "data": {
      "image/png": "[encoded data removed]",
      "text/plain": [
       "<Figure size 1152x360 with 2 Axes>"
      ]
     },
     "metadata": {
      "needs_background": "light"
     },
     "output_type": "display_data"
    }
   ],
   "source": [
    "plt.figure(figsize=(16,5))\n",
    "plt.subplot(1,2,1)\n",
    "sns.distplot(orders['customer_age'])\n",
    "plt.subplot(1,2,2)\n",
    "sns.distplot(orders['order_amount'])\n",
    "plt.show()"
   ]
  },
  {
   "cell_type": "code",
   "execution_count": 6,
   "metadata": {},
   "outputs": [
    {
     "data": {
      "image/png": "[encoded data removed]",
      "text/plain": [
       "<Figure size 1152x360 with 1 Axes>"
      ]
     },
     "metadata": {
      "needs_background": "light"
     },
     "output_type": "display_data"
    }
   ],
   "source": [
    "plt.figure(figsize=(16,5))\n",
    "plt.subplot(1,2,1)\n",
    "sns.distplot(orders['customer_credit_score'])\n",
    "plt.show()"
   ]
  },
  {
   "cell_type": "markdown",
   "metadata": {},
   "source": [
    "There are few outliers in <b> Customer_Credit_score</b> and there value is 1. We will be limiting them with mean +/- 3 standard Deviation"
   ]
  },
  {
   "cell_type": "code",
   "execution_count": 7,
   "metadata": {},
   "outputs": [
    {
     "name": "stdout",
     "output_type": "stream",
     "text": [
      "Lower Limit :335.77054489487784      Higher Limit: 891.101255105122\n"
     ]
    }
   ],
   "source": [
    "# Z-score treatment\n",
    "Highest_limit = orders['customer_credit_score'].mean() + 3*orders['customer_credit_score'].std()\n",
    "Lowest_limit = orders['customer_credit_score'].mean() - 3*orders['customer_credit_score'].std()\n",
    "print(\"Lower Limit :{}      Higher Limit: {}\".format(Lowest_limit,Highest_limit))\n",
    "\n",
    "orders = orders[(orders['customer_credit_score'] > Lowest_limit) & (orders['customer_credit_score'] < Highest_limit)]"
   ]
  },
  {
   "cell_type": "markdown",
   "metadata": {},
   "source": [
    "# ---------------------------------------------------------------------------------------------------------------"
   ]
  },
  {
   "cell_type": "markdown",
   "metadata": {},
   "source": [
    "## Missing Value Treatment"
   ]
  },
  {
   "cell_type": "code",
   "execution_count": 8,
   "metadata": {},
   "outputs": [
    {
     "data": {
      "text/plain": [
       "customer_billing_zip      11\n",
       "customer_shipping_zip     23\n",
       "paid_installment_1         2\n",
       "paid_installment_3         4\n",
       "paid_installment_4       576\n",
       "dtype: int64"
      ]
     },
     "execution_count": 8,
     "metadata": {},
     "output_type": "execute_result"
    }
   ],
   "source": [
    "null_columns = orders.columns[orders.isnull().any()]\n",
    "orders[null_columns].isnull().sum()"
   ]
  },
  {
   "cell_type": "code",
   "execution_count": 9,
   "metadata": {},
   "outputs": [],
   "source": [
    "# replacing the Zip values with most frequent repeated Items, we dont want to loose the record as zip codes are not relevant feature\n",
    "# for modeling .\n",
    "\n",
    "orders['customer_billing_zip'].fillna(orders['customer_billing_zip'].mode()[0], inplace = True)\n",
    "orders['customer_shipping_zip'].fillna(orders['customer_shipping_zip'].mode()[0], inplace = True)\n",
    "orders = orders.dropna()"
   ]
  },
  {
   "cell_type": "code",
   "execution_count": 10,
   "metadata": {},
   "outputs": [
    {
     "data": {
      "text/plain": [
       "9367"
      ]
     },
     "execution_count": 10,
     "metadata": {},
     "output_type": "execute_result"
    }
   ],
   "source": [
    "len(orders)"
   ]
  },
  {
   "cell_type": "markdown",
   "metadata": {},
   "source": [
    "### --------------------------------------------------------------------------------------------------------------------------------------------------------------"
   ]
  },
  {
   "cell_type": "markdown",
   "metadata": {},
   "source": [
    "### <b> Logic behind Target Variable <br><br></b>\n",
    "    \n",
    "Since our aim is to identify transactions which can be defaulted in future Payments<br><br>\n",
    "If a Customer has made all payments (all 1's) , Default status will be 0<br>\n",
    "If a Customer fas missed even a single payment, Default status will be 1\n",
    "    \n",
    "    "
   ]
  },
  {
   "cell_type": "code",
   "execution_count": 11,
   "metadata": {},
   "outputs": [
    {
     "data": {
      "text/html": [
       "<div>\n",
       "<style scoped>\n",
       "    .dataframe tbody tr th:only-of-type {\n",
       "        vertical-align: middle;\n",
       "    }\n",
       "\n",
       "    .dataframe tbody tr th {\n",
       "        vertical-align: top;\n",
       "    }\n",
       "\n",
       "    .dataframe thead th {\n",
       "        text-align: right;\n",
       "    }\n",
       "</style>\n",
       "<table border=\"1\" class=\"dataframe\">\n",
       "  <thead>\n",
       "    <tr style=\"text-align: right;\">\n",
       "      <th>Total_Installment_paid</th>\n",
       "      <th>1.0</th>\n",
       "      <th>2.0</th>\n",
       "      <th>3.0</th>\n",
       "      <th>4.0</th>\n",
       "    </tr>\n",
       "    <tr>\n",
       "      <th>Default_status</th>\n",
       "      <th></th>\n",
       "      <th></th>\n",
       "      <th></th>\n",
       "      <th></th>\n",
       "    </tr>\n",
       "  </thead>\n",
       "  <tbody>\n",
       "    <tr>\n",
       "      <th>0</th>\n",
       "      <td>0</td>\n",
       "      <td>0</td>\n",
       "      <td>0</td>\n",
       "      <td>8703</td>\n",
       "    </tr>\n",
       "    <tr>\n",
       "      <th>1</th>\n",
       "      <td>140</td>\n",
       "      <td>203</td>\n",
       "      <td>321</td>\n",
       "      <td>0</td>\n",
       "    </tr>\n",
       "  </tbody>\n",
       "</table>\n",
       "</div>"
      ],
      "text/plain": [
       "Total_Installment_paid  1.0  2.0  3.0   4.0\n",
       "Default_status                             \n",
       "0                         0    0    0  8703\n",
       "1                       140  203  321     0"
      ]
     },
     "execution_count": 11,
     "metadata": {},
     "output_type": "execute_result"
    }
   ],
   "source": [
    "orders['Total_Installment_paid'] = orders['paid_installment_1'] + orders['paid_installment_2'] +orders['paid_installment_3'] + orders['paid_installment_4']\n",
    "\n",
    "orders['Default_status']  = np.where(orders['Total_Installment_paid'] == 4, 0, 1)\n",
    "pd.crosstab(orders['Default_status'],orders['Total_Installment_paid'] )"
   ]
  },
  {
   "cell_type": "markdown",
   "metadata": {},
   "source": [
    "### _______                                                                Adding an additional feature \n",
    "If the Customer has defualted any previous payment before current payment, the column value will be True.\n",
    "<br>If The customer has not defaulted previously or making their first order, The value will be False.  \n"
   ]
  },
  {
   "cell_type": "code",
   "execution_count": 12,
   "metadata": {},
   "outputs": [],
   "source": [
    "#Creating a seperate dataframe for customers who defaulted any EMI\n",
    "\n",
    "EMI_defaulters = orders[(orders['Default_status']==1)]\n",
    "EMI_defaulters = EMI_defaulters[['customer_id','checkout_started_at','Default_status']]\n",
    "EMI_defaulters = EMI_defaulters.sort_values(by=['customer_id', 'checkout_started_at'])\n",
    "\n",
    "EMI_defaulters = EMI_defaulters.drop_duplicates(subset=['customer_id', 'checkout_started_at'], keep='first')\n",
    "\n",
    "EMI_defaulters.rename(columns={'Default_status': 'Previously_Defaulted','checkout_started_at': 'previous_date'}, inplace=True)\n",
    "\n",
    "# Joining it back to the Main Orders Table\n",
    "orders_data = pd.merge(orders, EMI_defaulters, how='left', on=['customer_id'])\n",
    "\n",
    "orders_data['Previously_Defaulted'] = orders_data['Previously_Defaulted'].fillna(0)\n",
    "\n",
    "# dedupping step\n",
    "orders_data_0 =  orders_data[(orders_data['order_id'] == 0)] # since there are 6 records with same order-id i.e. 0\n",
    "orders_data_0_default =  orders_data[(orders_data['order_id'] != 0)& (orders_data['Previously_Defaulted'] == 0)] # Not matched ones\n",
    "orders_data_1_default =orders_data[(orders_data['checkout_started_at'] > orders_data['previous_date']) | (orders_data['Previously_Defaulted'] ==1) ]\n",
    "orders_data_1_default= orders_data_1_default.drop_duplicates(subset=['order_id','customer_id'], keep='first')\n",
    "\n",
    "len(orders_data_1_default)\n",
    "\n",
    "#Combining all three \n",
    "orders_data_new = pd.concat([orders_data_1_default, orders_data_0_default,orders_data_0], ignore_index=True)\n",
    "orders_data_new['Previously_Defaulted']  = np.where((orders_data_new['checkout_started_at'] == orders_data_new['previous_date']), 0, orders_data_new['Previously_Defaulted'] )\n",
    "\n",
    "\n",
    "\n",
    "# convertig to Boolean\n",
    "orders_data_new['Previously_Defaulted'] = orders_data_new['Previously_Defaulted'].astype('bool')\n",
    "\n",
    "orders_data_new['Previously_Defaulted'].value_counts()\n",
    "orders_data_new.reset_index(inplace = True, drop = True)"
   ]
  },
  {
   "cell_type": "code",
   "execution_count": 13,
   "metadata": {},
   "outputs": [],
   "source": [
    "X_orders = orders_data_new[['order_amount','customer_credit_score', 'customer_age','Previously_Defaulted']]\n",
    "Y_orders = orders_data_new['Default_status']\n",
    "\n",
    "scaler = StandardScaler()\n",
    "X_orders = scaler.fit_transform(X_orders)"
   ]
  },
  {
   "cell_type": "markdown",
   "metadata": {},
   "source": [
    "### SmoteTomek for Class Imbalance <br>\n",
    "\n",
    "Oversampling to overcome Class imbalance only on Train data, so that we can correctly classify the minoity class( i.e. 1 Default)"
   ]
  },
  {
   "cell_type": "code",
   "execution_count": 14,
   "metadata": {},
   "outputs": [],
   "source": [
    "X_train, X_test, y_train, y_test = train_test_split(X_orders, Y_orders, test_size=0.3, random_state = 123) # 70% training and 30% test\n",
    "\n",
    "\n",
    "# Uversampling the Imbalanced data with SmoteTomek\n",
    "smtm = SMOTETomek(random_state = 122)\n",
    "X_train_smtm, y_train_smtm = smtm.fit_resample(X_train, y_train)"
   ]
  },
  {
   "cell_type": "markdown",
   "metadata": {},
   "source": [
    "### Creating Logistic Regression model with 70 % Train data "
   ]
  },
  {
   "cell_type": "code",
   "execution_count": 15,
   "metadata": {},
   "outputs": [
    {
     "name": "stdout",
     "output_type": "stream",
     "text": [
      "[-0.43523295]\n",
      "[[ 0.16232421 -0.98400628 -0.29638464  0.28357129]]\n"
     ]
    },
    {
     "data": {
      "text/plain": [
       "0.712557808609036"
      ]
     },
     "execution_count": 15,
     "metadata": {},
     "output_type": "execute_result"
    }
   ],
   "source": [
    "# Create and fit a logistic regression model\n",
    "log_reg = LogisticRegression(solver='lbfgs')\n",
    "log_reg.fit(X_train_smtm, np.ravel(y_train_smtm))\n",
    "\n",
    "# Print the parameters of the model\n",
    "#print(log_reg.get_params())\n",
    "\n",
    "# Print the intercept of the model\n",
    "print(log_reg.intercept_)\n",
    "\n",
    "# Print the models coefficients\n",
    "print(log_reg.coef_)\n",
    "\n",
    "\n",
    "log_reg.score(X_test,y_test)"
   ]
  },
  {
   "cell_type": "code",
   "execution_count": 16,
   "metadata": {},
   "outputs": [],
   "source": [
    "predictions = log_reg.predict(X_test)\n",
    "predictions = pd.DataFrame(predictions, columns = ['Predicted_Default'])\n",
    "y_test.reset_index(inplace = True, drop = True)\n",
    "y_test  = pd.DataFrame(y_test, columns=['Default_status'])\n"
   ]
  },
  {
   "cell_type": "code",
   "execution_count": 17,
   "metadata": {},
   "outputs": [
    {
     "name": "stdout",
     "output_type": "stream",
     "text": [
      "Confusion matrix : \n",
      " [[ 120   74]\n",
      " [ 734 1883]]\n",
      "Outcome values :  120 74 734 1883\n",
      "\n",
      "Classification report : \n",
      "               precision    recall  f1-score   support\n",
      "\n",
      "           1       0.14      0.62      0.23       194\n",
      "           0       0.96      0.72      0.82      2617\n",
      "\n",
      "    accuracy                           0.71      2811\n",
      "   macro avg       0.55      0.67      0.53      2811\n",
      "weighted avg       0.91      0.71      0.78      2811\n",
      "\n",
      "\n",
      "Overall accuracy : 0.712557808609036\n",
      "\n",
      "Sensitivity      : 0.6185567010309279\n",
      "\n",
      "Specificity      : 0.719526175009553\n"
     ]
    }
   ],
   "source": [
    "# Accuracy and Confusion Matrix\n",
    "\n",
    "predicted = predictions['Predicted_Default']\n",
    "actual = y_test['Default_status']\n",
    "\n",
    "\n",
    "# confusion matrix\n",
    "matrix = confusion_matrix(actual,predicted, labels=[1,0])\n",
    "print('Confusion matrix : \\n',matrix)\n",
    "\n",
    "# outcome values order in sklearn\n",
    "tp, fn, fp, tn = confusion_matrix(actual,predicted,labels=[1,0]).reshape(-1)\n",
    "print('Outcome values : ', tp, fn, fp, tn)\n",
    "\n",
    "\n",
    "# classification report for precision, recall f1-score and accuracy\n",
    "#target_names = ['Non-Default', 'Default']\n",
    "matrix = classification_report(actual,predicted, labels=[1,0])\n",
    "print('\\nClassification report : \\n',matrix)\n",
    "\n",
    "\n",
    "sensitivity = tp/(tp+fn)\n",
    "specificity = tn/(tn+fp) \n",
    "accuracy = (tp + tn)/(tp + fn + fp + tn)\n",
    "print('\\nOverall accuracy :',accuracy)\n",
    "print('\\nSensitivity      :',sensitivity)\n",
    "print('\\nSpecificity      :',specificity)\n",
    "\n"
   ]
  },
  {
   "cell_type": "markdown",
   "metadata": {},
   "source": [
    "<b> <u> Logistic Regression Model has a accuracy of 72.5 % on default probability cutoff of 0.5<br> <br>\n",
    "True Positive rate or Recall(1) is 60%, i.e. that is we are able to precict 60 % defaults.<br>   \n",
    "We can adjsust threshold and see if we can increase the recall (1)."
   ]
  },
  {
   "cell_type": "code",
   "execution_count": 18,
   "metadata": {},
   "outputs": [
    {
     "data": {
      "image/png": "[encoded data removed]",
      "text/plain": [
       "<Figure size 432x288 with 1 Axes>"
      ]
     },
     "metadata": {
      "needs_background": "light"
     },
     "output_type": "display_data"
    },
    {
     "name": "stdout",
     "output_type": "stream",
     "text": [
      "The Accuracy on default cutoff is :  0.712557808609036\n",
      "The AUC value for cutoff is :  0.7324817115686886\n"
     ]
    }
   ],
   "source": [
    "# Create predictions and store them in a variable\n",
    "preds = log_reg.predict_proba(X_test)\n",
    "\n",
    "# Plot the ROC curve of the probabilities of default\n",
    "prob_default = preds[:, 1]\n",
    "prediction_default = pd.DataFrame(prob_default, columns=['Default_Prob'])\n",
    "\n",
    "fallout, sensitivity, thresholds = roc_curve(y_test, prob_default)\n",
    "plt.plot(fallout, sensitivity, color = 'orange')\n",
    "plt.plot([0, 1], [0, 1], linestyle='--')\n",
    "plt.show()\n",
    "\n",
    "# Compute the AUC and store it in a variable\n",
    "auc = roc_auc_score(y_test, prob_default)\n",
    "\n",
    "# Print the accuracy score the model\n",
    "print(\"The Accuracy on default cutoff is : \",log_reg.score(X_test, y_test))\n",
    "print(\"The AUC value for cutoff is : \",auc)"
   ]
  },
  {
   "cell_type": "code",
   "execution_count": 19,
   "metadata": {},
   "outputs": [
    {
     "name": "stdout",
     "output_type": "stream",
     "text": [
      "Best Threshold=0.474944, G-Mean=0.685\n"
     ]
    },
    {
     "data": {
      "image/png": "[encoded data removed]",
      "text/plain": [
       "<Figure size 960x720 with 1 Axes>"
      ]
     },
     "metadata": {
      "needs_background": "light"
     },
     "output_type": "display_data"
    }
   ],
   "source": [
    "\n",
    "# calculate the g-mean for each threshold\n",
    "gmeans = np.sqrt(sensitivity * (1-fallout)) #fallout, sensitivity\n",
    "# locate the index of the largest g-mean\n",
    "ix = argmax(gmeans)\n",
    "print('Best Threshold=%f, G-Mean=%.3f' % (thresholds[ix], gmeans[ix]))\n",
    "\n",
    "figure(figsize=(12, 9), dpi=80)\n",
    "# plot the roc curve for the model\n",
    "pyplot.plot([0,1], [0,1], linestyle='--', label='Default')\n",
    "pyplot.plot(fallout, sensitivity, marker='.', label='Logistic')\n",
    "pyplot.scatter(fallout[ix], sensitivity[ix], marker='o', color='black', label='Optimal Cutoff')\n",
    "# axis labels\n",
    "pyplot.xlabel('False Positive Rate')\n",
    "pyplot.ylabel('True Positive Rate')\n",
    "pyplot.legend()\n",
    "# show the plot\n",
    "pyplot.show()"
   ]
  },
  {
   "cell_type": "code",
   "execution_count": 20,
   "metadata": {},
   "outputs": [
    {
     "name": "stdout",
     "output_type": "stream",
     "text": [
      "0.7061855670103093\n",
      "\n",
      "Classification report : \n",
      "               precision    recall  f1-score   support\n",
      "\n",
      "           1       0.13      0.71      0.22       194\n",
      "           0       0.97      0.65      0.78      2617\n",
      "\n",
      "    accuracy                           0.66      2811\n",
      "   macro avg       0.55      0.68      0.50      2811\n",
      "weighted avg       0.91      0.66      0.74      2811\n",
      "\n",
      "Outcome values :  137 57 903 1714\n",
      "\n",
      "Overall accuracy : 0.6584845250800427\n",
      "\n",
      "Sensitivity      : 0.7061855670103093\n",
      "\n",
      "Specificity      : 0.6549484142147497\n"
     ]
    }
   ],
   "source": [
    "# Reassign the values of loan status based on the new threshold\n",
    "prediction_default['Default_status'] = prediction_default['Default_Prob'].apply(lambda x: 1 if x > 0.47 else 0)\n",
    "\n",
    "# Store the number of loan defaults from the prediction data\n",
    "prediction_default['Default_status'].value_counts()\n",
    "\n",
    "predicted = prediction_default['Default_status']\n",
    "#predictions['Predicted_Default'].value_counts()\n",
    "\n",
    "# Store the default recall from the classification report\n",
    "default_recall = precision_recall_fscore_support(y_test,prediction_default['Default_status'])[1][1]\n",
    "print(default_recall)\n",
    "\n",
    "#avg_loan_amnt = 57\n",
    "# Calculate the estimated impact of the new default recall rate\n",
    "#print(num_defaults * avg_loan_amnt * (1 - default_recall))\n",
    "\n",
    "matrix = classification_report(actual,predicted, labels=[1,0])\n",
    "print('\\nClassification report : \\n',matrix)\n",
    "\n",
    "\n",
    "# outcome values order in sklearn\n",
    "tp, fn, fp, tn = confusion_matrix(actual,predicted,labels=[1,0]).reshape(-1)\n",
    "print('Outcome values : ', tp, fn, fp, tn)\n",
    "\n",
    "\n",
    "\n",
    "sensitivity = tp/(tp+fn)\n",
    "specificity = tn/(tn+fp) \n",
    "accuracy = (tp + tn)/(tp + fn + fp + tn)\n",
    "print('\\nOverall accuracy :',accuracy)\n",
    "print('\\nSensitivity      :',sensitivity)\n",
    "print('\\nSpecificity      :',specificity)\n",
    "\n",
    "\n",
    "#print(num_defaults * avg_loan_amnt * (1 - default_recall))"
   ]
  },
  {
   "cell_type": "markdown",
   "metadata": {},
   "source": [
    "<b> <font color='blue'> Applying the Optimal Threshold of 0.47 and Re calculating the predictions, The Recall (1) has increased to 70.7 % <br><br>\n",
    "Our Model accuracy has reduced to 64 % , which is acceptable because our aim to predict default events more accurately than the non default events.    </font>"
   ]
  },
  {
   "cell_type": "markdown",
   "metadata": {},
   "source": [
    "###                                                           XGboost Model"
   ]
  },
  {
   "cell_type": "code",
   "execution_count": 21,
   "metadata": {},
   "outputs": [
    {
     "name": "stdout",
     "output_type": "stream",
     "text": [
      "[01:43:52] WARNING: C:/Users/Administrator/workspace/xgboost-win64_release_1.4.0/src/learner.cc:1095: Starting in XGBoost 1.3.0, the default evaluation metric used with the objective 'binary:logistic' was changed from 'error' to 'logloss'. Explicitly set eval_metric if you'd like to restore the old behavior.\n",
      "\n",
      "\n",
      " XGboost Model Accuracy : 0.8900747065101388\n"
     ]
    }
   ],
   "source": [
    "X_train_smtm = pd.DataFrame(X_train_smtm, columns=['order_amount','customer_credit_score', 'customer_age','Previously_Defaulted'])\n",
    "\n",
    "xgb_model=xgb.XGBClassifier(colsample_bytree = 0.3, gamma = 0.2, learning_rate = 0.2, max_depth = 10)\n",
    "xgb_model.fit(X_train_smtm,y_train_smtm.values.ravel())\n",
    "y_pred=xgb_model.predict(X_test)\n",
    "XGB_accuracy= metrics.accuracy_score(y_test, y_pred)\n",
    "#log_reg.fit(X_train_smtm, np.ravel(y_train_smtm))\n",
    "print(\"\\n\\n XGboost Model Accuracy : {}\".format(XGB_accuracy))"
   ]
  },
  {
   "cell_type": "code",
   "execution_count": 22,
   "metadata": {},
   "outputs": [
    {
     "name": "stdout",
     "output_type": "stream",
     "text": [
      "Confusion matrix : \n",
      " [[  31  163]\n",
      " [ 146 2471]]\n",
      "Outcome values :  31 163 146 2471\n",
      "\n",
      "Classification report : \n",
      "               precision    recall  f1-score   support\n",
      "\n",
      "           1       0.18      0.16      0.17       194\n",
      "           0       0.94      0.94      0.94      2617\n",
      "\n",
      "    accuracy                           0.89      2811\n",
      "   macro avg       0.56      0.55      0.55      2811\n",
      "weighted avg       0.89      0.89      0.89      2811\n",
      "\n",
      "\n",
      "Overall accuracy : 0.8900747065101388\n",
      "\n",
      "Sensitivity      : 0.15979381443298968\n",
      "\n",
      "Specificity      : 0.9442109285441345\n"
     ]
    }
   ],
   "source": [
    "# Accuracy and Confusion Matrix\n",
    "\n",
    "predicted = y_pred\n",
    "actual = y_test\n",
    "\n",
    "\n",
    "# confusion matrix\n",
    "matrix = confusion_matrix(actual,predicted, labels=[1,0])\n",
    "print('Confusion matrix : \\n',matrix)\n",
    "\n",
    "# outcome values order in sklearn\n",
    "tp, fn, fp, tn = confusion_matrix(actual,predicted,labels=[1,0]).reshape(-1)\n",
    "print('Outcome values : ', tp, fn, fp, tn)\n",
    "\n",
    "\n",
    "# classification report for precision, recall f1-score and accuracy\n",
    "matrix = classification_report(actual,predicted, labels=[1,0])\n",
    "print('\\nClassification report : \\n',matrix)\n",
    "\n",
    "\n",
    "sensitivity = tp/(tp+fn)\n",
    "specificity = tn/(tn+fp) \n",
    "accuracy = (tp + tn)/(tp + fn + fp + tn)\n",
    "print('\\nOverall accuracy :',accuracy)\n",
    "print('\\nSensitivity      :',sensitivity)\n",
    "print('\\nSpecificity      :',specificity)\n"
   ]
  },
  {
   "cell_type": "markdown",
   "metadata": {},
   "source": [
    "<b>  with the XGBoost Modeling approach our accuracy has increased to 89% <br><br>\n",
    "But our Recall(1) value is poor, Which means we are not able to predict default events correctly.<br><br>\n",
    "    \n",
    "So lets consider results from Logistic regression model as a reliable prediction model.   "
   ]
  },
  {
   "cell_type": "code",
   "execution_count": 23,
   "metadata": {},
   "outputs": [
    {
     "name": "stdout",
     "output_type": "stream",
     "text": [
      "{'order_amount': 2093, 'Previously_Defaulted': 21, 'customer_age': 773, 'customer_credit_score': 1923}\n"
     ]
    }
   ],
   "source": [
    "# Create and train the model on the training data\n",
    "#clf_gbt = xgb.XGBClassifier().fit(X_train,np.ravel(y_train))\n",
    "\n",
    "# Print the column importances from the model\n",
    "print(xgb_model.get_booster().get_score(importance_type = 'weight'))"
   ]
  },
  {
   "cell_type": "code",
   "execution_count": 24,
   "metadata": {},
   "outputs": [
    {
     "data": {
      "image/png": "[encoded data removed]",
      "text/plain": [
       "<Figure size 432x288 with 1 Axes>"
      ]
     },
     "metadata": {
      "needs_background": "light"
     },
     "output_type": "display_data"
    }
   ],
   "source": [
    "# Plot the column importance for this model\n",
    "xgb.plot_importance(xgb_model, importance_type = 'weight')\n",
    "plt.show()"
   ]
  },
  {
   "cell_type": "code",
   "execution_count": 25,
   "metadata": {},
   "outputs": [
    {
     "name": "stdout",
     "output_type": "stream",
     "text": [
      "28637.192980000003\n"
     ]
    }
   ],
   "source": [
    "print(671 * 145.66 * (1 - 0.7070))"
   ]
  },
  {
   "cell_type": "code",
   "execution_count": null,
   "metadata": {},
   "outputs": [],
   "source": []
  }
 ],
 "metadata": {
  "kernelspec": {
   "display_name": "Python 3",
   "language": "python",
   "name": "python3"
  },
  "language_info": {
   "codemirror_mode": {
    "name": "ipython",
    "version": 3
   },
   "file_extension": ".py",
   "mimetype": "text/x-python",
   "name": "python",
   "nbconvert_exporter": "python",
   "pygments_lexer": "ipython3",
   "version": "3.8.3"
  }
 },
 "nbformat": 4,
 "nbformat_minor": 4
}
